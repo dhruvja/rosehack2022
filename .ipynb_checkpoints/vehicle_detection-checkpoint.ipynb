{
 "cells": [
  {
   "cell_type": "code",
   "execution_count": 1,
   "metadata": {},
   "outputs": [
    {
     "ename": "error",
     "evalue": "OpenCV(4.5.4) /Users/runner/work/opencv-python/opencv-python/opencv/modules/imgproc/src/color.cpp:182: error: (-215:Assertion failed) !_src.empty() in function 'cvtColor'\n",
     "output_type": "error",
     "traceback": [
      "\u001b[0;31m---------------------------------------------------------------------------\u001b[0m",
      "\u001b[0;31merror\u001b[0m                                     Traceback (most recent call last)",
      "\u001b[0;32m<ipython-input-1-e9266d8c79cd>\u001b[0m in \u001b[0;36m<module>\u001b[0;34m\u001b[0m\n\u001b[1;32m     15\u001b[0m \u001b[0;34m\u001b[0m\u001b[0m\n\u001b[1;32m     16\u001b[0m     \u001b[0;31m# convert to gray scale of each frames\u001b[0m\u001b[0;34m\u001b[0m\u001b[0;34m\u001b[0m\u001b[0;34m\u001b[0m\u001b[0m\n\u001b[0;32m---> 17\u001b[0;31m     \u001b[0mgray\u001b[0m \u001b[0;34m=\u001b[0m \u001b[0mcv2\u001b[0m\u001b[0;34m.\u001b[0m\u001b[0mcvtColor\u001b[0m\u001b[0;34m(\u001b[0m\u001b[0mframes\u001b[0m\u001b[0;34m,\u001b[0m \u001b[0mcv2\u001b[0m\u001b[0;34m.\u001b[0m\u001b[0mCOLOR_BGR2GRAY\u001b[0m\u001b[0;34m)\u001b[0m\u001b[0;34m\u001b[0m\u001b[0;34m\u001b[0m\u001b[0m\n\u001b[0m\u001b[1;32m     18\u001b[0m \u001b[0;34m\u001b[0m\u001b[0m\n\u001b[1;32m     19\u001b[0m \u001b[0;34m\u001b[0m\u001b[0m\n",
      "\u001b[0;31merror\u001b[0m: OpenCV(4.5.4) /Users/runner/work/opencv-python/opencv-python/opencv/modules/imgproc/src/color.cpp:182: error: (-215:Assertion failed) !_src.empty() in function 'cvtColor'\n"
     ]
    }
   ],
   "source": [
    "# OpenCV Python program to detect cars in video frame\n",
    "# import libraries of python OpenCV \n",
    "import cv2\n",
    "  \n",
    "# capture frames from a video\n",
    "cap = cv2.VideoCapture('ambulance.mp4')\n",
    "  \n",
    "# Trained XML classifiers describes some features of some object we want to detect\n",
    "car_cascade = cv2.CascadeClassifier('cars.xml')\n",
    "  \n",
    "# loop runs if capturing has been initialized.\n",
    "while True:\n",
    "    # reads frames from a video\n",
    "    ret, frames = cap.read()\n",
    "      \n",
    "    # convert to gray scale of each frames\n",
    "    gray = cv2.cvtColor(frames, cv2.COLOR_BGR2GRAY)\n",
    "      \n",
    "  \n",
    "    # Detects cars of different sizes in the input image\n",
    "    cars = car_cascade.detectMultiScale(gray, 1.1, 1)\n",
    "      \n",
    "    # To draw a rectangle in each cars\n",
    "    for (x,y,w,h) in cars:\n",
    "        cv2.rectangle(frames,(x,y),(x+w,y+h),(0,0,255),2)\n",
    "  \n",
    "   # Display frames in a window \n",
    "    cv2.imshow('video2', frames)\n",
    "      \n",
    "    # Wait for Esc key to stop\n",
    "    if cv2.waitKey(33) == 27:\n",
    "        break\n",
    "  \n",
    "# De-allocate any associated memory usage\n",
    "cv2.destroyAllWindows()\n"
   ]
  },
  {
   "cell_type": "code",
   "execution_count": null,
   "metadata": {},
   "outputs": [],
   "source": []
  },
  {
   "cell_type": "code",
   "execution_count": null,
   "metadata": {},
   "outputs": [],
   "source": []
  }
 ],
 "metadata": {
  "kernelspec": {
   "display_name": "Python 3",
   "language": "python",
   "name": "python3"
  },
  "language_info": {
   "codemirror_mode": {
    "name": "ipython",
    "version": 3
   },
   "file_extension": ".py",
   "mimetype": "text/x-python",
   "name": "python",
   "nbconvert_exporter": "python",
   "pygments_lexer": "ipython3",
   "version": "3.8.5"
  }
 },
 "nbformat": 4,
 "nbformat_minor": 4
}
